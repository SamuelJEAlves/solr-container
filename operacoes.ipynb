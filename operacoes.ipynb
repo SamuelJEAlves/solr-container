{
 "cells": [
  {
   "cell_type": "markdown",
   "metadata": {},
   "source": [
    "- Verifica se o Solr está UP"
   ]
  },
  {
   "cell_type": "code",
   "execution_count": 1,
   "metadata": {},
   "outputs": [
    {
     "name": "stdout",
     "output_type": "stream",
     "text": [
      "Solr está funcionando na porta 8983\n",
      "Status code: 200\n"
     ]
    }
   ],
   "source": [
    "import requests\n",
    "\n",
    "SOLR_URL = \"http://localhost:8983/solr/admin/info/system\"\n",
    "\n",
    "try:\n",
    "    response = requests.get(SOLR_URL)\n",
    "    response.raise_for_status()\n",
    "    print(\"Solr está funcionando na porta 8983\")\n",
    "    print(f\"Status code: {response.status_code}\")\n",
    "    \n",
    "except requests.exceptions.RequestException as e:\n",
    "    print(f\"Erro ao conectar ao Solr: {e}\")"
   ]
  },
  {
   "cell_type": "markdown",
   "metadata": {},
   "source": [
    "- Acessa o terminal do container\n",
    "- Cria um core de exemplo\n",
    "- Indexa a base books.json que vem nativamente como exemplo com o Solr (auto commit)"
   ]
  },
  {
   "cell_type": "code",
   "execution_count": null,
   "metadata": {},
   "outputs": [],
   "source": [
    "# docker exec -it solr-container /bin/bash\n",
    "\n",
    "# docker exec -it solr-container solr create -c gettingstarted\n",
    "\n",
    "# curl -X POST -H \"Content-Type: application/json\" --data-binary @/opt/solr/example/exampledocs/books.json \"http://localhost:8983/solr/gettingstarted/update/json?commit=true\""
   ]
  },
  {
   "cell_type": "markdown",
   "metadata": {},
   "source": [
    "- Reload no core para aplicar as alterações"
   ]
  },
  {
   "cell_type": "code",
   "execution_count": null,
   "metadata": {},
   "outputs": [],
   "source": [
    "# curl \"http://localhost:8983/solr/admin/cores?action=RELOAD&core=gettingstarted\""
   ]
  },
  {
   "cell_type": "code",
   "execution_count": 3,
   "metadata": {},
   "outputs": [
    {
     "name": "stdout",
     "output_type": "stream",
     "text": [
      "Core gettingstarted recarregado\n",
      "Status code: 200\n"
     ]
    }
   ],
   "source": [
    "import requests\n",
    "\n",
    "url = \"http://localhost:8983/solr/admin/cores?action=RELOAD&core=gettingstarted\"\n",
    "\n",
    "response = requests.get(url)\n",
    "\n",
    "try:\n",
    "    response.raise_for_status()\n",
    "    print(\"Core gettingstarted recarregado\")\n",
    "    print(f\"Status code: {response.status_code}\")\n",
    "    \n",
    "except requests.exceptions.RequestException as e:\n",
    "    print(f\"Erro ao recarregar o core: {e}\")"
   ]
  },
  {
   "cell_type": "markdown",
   "metadata": {},
   "source": [
    "- Verifica quantos documentos estão indexados"
   ]
  },
  {
   "cell_type": "code",
   "execution_count": 2,
   "metadata": {},
   "outputs": [
    {
     "name": "stdout",
     "output_type": "stream",
     "text": [
      "Número de documentos indexados: 4\n"
     ]
    }
   ],
   "source": [
    "import requests\n",
    "\n",
    "solr_url = \"http://localhost:8983/solr/gettingstarted/select?q=*:*&rows=0&wt=json\"\n",
    "\n",
    "response = requests.get(solr_url)\n",
    "\n",
    "if response.status_code == 200:\n",
    "    data = response.json()\n",
    "    num_docs = data[\"response\"][\"numFound\"]\n",
    "    print(f\"Número de documentos indexados: {num_docs}\")\n",
    "else:\n",
    "    print(f\"Erro ao acessar o Solr: {response.status_code}\")\n",
    "    print(response.text)\n"
   ]
  }
 ],
 "metadata": {
  "kernelspec": {
   "display_name": "Python 3",
   "language": "python",
   "name": "python3"
  },
  "language_info": {
   "codemirror_mode": {
    "name": "ipython",
    "version": 3
   },
   "file_extension": ".py",
   "mimetype": "text/x-python",
   "name": "python",
   "nbconvert_exporter": "python",
   "pygments_lexer": "ipython3",
   "version": "3.11.5"
  }
 },
 "nbformat": 4,
 "nbformat_minor": 2
}
